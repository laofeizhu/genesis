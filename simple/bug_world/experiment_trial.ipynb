{
 "cells": [
  {
   "cell_type": "code",
   "execution_count": 1,
   "metadata": {},
   "outputs": [],
   "source": [
    "# simply deactivate and reactivate the venv if pandas cannot load\n",
    "import pandas as pd\n",
    "\n",
    "from world import World\n",
    "from matplotlib import pyplot as plt\n",
    "\n",
    "import os\n",
    "import tempfile"
   ]
  },
  {
   "cell_type": "code",
   "execution_count": 2,
   "metadata": {},
   "outputs": [
    {
     "name": "stdout",
     "output_type": "stream",
     "text": [
      "log_dir is: /var/folders/3x/2b_b4h1d39j17y6c38xhrlxw0000gp/T/tmpwpm5crfy\n"
     ]
    }
   ],
   "source": [
    "log_dir = tempfile.mkdtemp()\n",
    "print(\"log_dir is:\", log_dir)\n",
    "\n",
    "bug_file_path = os.path.join(log_dir, \"bug.csv\")\n",
    "food_file_path = os.path.join(log_dir, \"food.csv\")"
   ]
  },
  {
   "cell_type": "code",
   "execution_count": 3,
   "metadata": {},
   "outputs": [],
   "source": [
    "config = {\n",
    "    \"dim\": [20, 1],\n",
    "    \"default_bug_size\": 15,\n",
    "    \"default_food_size\": 1000,\n",
    "}\n",
    "world = World(config)\n",
    "world.create_food(options={\"point\": [0, 0]})\n",
    "world.create_bug(options={\"point\": [7, 0]})\n",
    "world.create_bug(options={\"point\": [5, 0]})\n",
    "world.record(log_dir)\n",
    "for _ in range(11):\n",
    "  world.step()\n",
    "  world.record(log_dir)"
   ]
  },
  {
   "cell_type": "code",
   "execution_count": 4,
   "metadata": {},
   "outputs": [],
   "source": [
    "bug_df = pd.read_csv(bug_file_path)\n",
    "food_df = pd.read_csv(food_file_path)"
   ]
  },
  {
   "cell_type": "code",
   "execution_count": 5,
   "metadata": {},
   "outputs": [],
   "source": [
    "bug_df[\"id\"] = bug_df[\"id\"].astype(\"category\")\n",
    "ids = bug_df[\"id\"].cat.categories"
   ]
  },
  {
   "cell_type": "code",
   "execution_count": 6,
   "metadata": {},
   "outputs": [
    {
     "data": {
      "application/vnd.jupyter.widget-view+json": {
       "model_id": "95b082d8e2a14b39b4d7e6552464fd2d",
       "version_major": 2,
       "version_minor": 0
      },
      "text/plain": [
       "interactive(children=(IntSlider(value=0, description='x', max=1), Output()), _dom_classes=('widget-interact',)…"
      ]
     },
     "metadata": {},
     "output_type": "display_data"
    }
   ],
   "source": [
    "import ipywidgets as widgets\n",
    "import matplotlib.pyplot as plt\n",
    "\n",
    "%matplotlib inline\n",
    "\n",
    "def f(x):\n",
    "    bug = bug_df.loc[bug_df[\"id\"] == ids[x]]\n",
    "    plt.plot(bug[\"age\"], bug[\"size\"])\n",
    "    plt.show()\n",
    "    \n",
    "\n",
    "widgets.interact(f, x=widgets.IntSlider(min=0, max=ids.size-1, step=1, value=0));"
   ]
  },
  {
   "cell_type": "code",
   "execution_count": null,
   "metadata": {},
   "outputs": [],
   "source": []
  }
 ],
 "metadata": {
  "kernelspec": {
   "display_name": "Python 3",
   "language": "python",
   "name": "python3"
  },
  "language_info": {
   "codemirror_mode": {
    "name": "ipython",
    "version": 3
   },
   "file_extension": ".py",
   "mimetype": "text/x-python",
   "name": "python",
   "nbconvert_exporter": "python",
   "pygments_lexer": "ipython3",
   "version": "3.7.4"
  }
 },
 "nbformat": 4,
 "nbformat_minor": 4
}
