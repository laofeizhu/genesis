{
 "cells": [
  {
   "cell_type": "code",
   "execution_count": 1,
   "metadata": {},
   "outputs": [],
   "source": [
    "# simply deactivate and reactivate the venv if pandas cannot load\n",
    "import pandas as pd\n",
    "\n",
    "from world import World\n",
    "from matplotlib import pyplot as plt\n",
    "\n",
    "import os\n",
    "import tempfile"
   ]
  },
  {
   "cell_type": "code",
   "execution_count": 14,
   "metadata": {},
   "outputs": [
    {
     "name": "stdout",
     "output_type": "stream",
     "text": [
      "log_dir is: /tmp/tmpdj65odqa\n"
     ]
    }
   ],
   "source": [
    "log_dir = tempfile.mkdtemp()\n",
    "print(\"log_dir is:\", log_dir)\n",
    "\n",
    "bug_file_path = os.path.join(log_dir, \"bug.csv\")\n",
    "food_file_path = os.path.join(log_dir, \"food.csv\")"
   ]
  },
  {
   "cell_type": "code",
   "execution_count": 15,
   "metadata": {},
   "outputs": [],
   "source": [
    "config = {\n",
    "    \"dim\": [20, 1],\n",
    "    \"default_bug_size\": 1,\n",
    "    \"default_food_size\": 1000,\n",
    "}\n",
    "world = World(config)\n",
    "world.create_food(options={\"point\": [0, 0]})\n",
    "world.create_bug(options={\"point\": [1, 0]})\n",
    "world.record(log_dir)\n",
    "for _ in range(11):\n",
    "  world.step()\n",
    "  world.record(log_dir)"
   ]
  },
  {
   "cell_type": "code",
   "execution_count": 16,
   "metadata": {},
   "outputs": [
    {
     "name": "stdout",
     "output_type": "stream",
     "text": [
      "     age                                    id   point       size  step\n",
      "0    0.0  b9a92c4c-ce30-4f39-942a-b205f6772db0  (1, 0)   1.000000   0.0\n",
      "1    1.0  b9a92c4c-ce30-4f39-942a-b205f6772db0  (0, 0)   1.300000   1.0\n",
      "2    2.0  b9a92c4c-ce30-4f39-942a-b205f6772db0  (0, 0)   1.720000   2.0\n",
      "3    3.0  b9a92c4c-ce30-4f39-942a-b205f6772db0  (0, 0)   2.296000   3.0\n",
      "4    4.0  b9a92c4c-ce30-4f39-942a-b205f6772db0  (0, 0)   3.074800   4.0\n",
      "5    5.0  b9a92c4c-ce30-4f39-942a-b205f6772db0  (0, 0)   4.117240   5.0\n",
      "6    6.0  b9a92c4c-ce30-4f39-942a-b205f6772db0  (0, 0)   5.502412   6.0\n",
      "7    7.0  b9a92c4c-ce30-4f39-942a-b205f6772db0  (0, 0)   7.333136   7.0\n",
      "8    8.0  b9a92c4c-ce30-4f39-942a-b205f6772db0  (0, 0)   9.743076   8.0\n",
      "9    9.0  b9a92c4c-ce30-4f39-942a-b205f6772db0  (0, 0)  12.905999   9.0\n",
      "10  10.0  b9a92c4c-ce30-4f39-942a-b205f6772db0  (0, 0)  17.047799  10.0\n",
      "11  11.0  b9a92c4c-ce30-4f39-942a-b205f6772db0  (0, 0)  22.462139  11.0\n"
     ]
    }
   ],
   "source": [
    "bug_df = pd.read_csv(bug_file_path)\n",
    "print(bug_df)"
   ]
  },
  {
   "cell_type": "code",
   "execution_count": 17,
   "metadata": {},
   "outputs": [
    {
     "name": "stdout",
     "output_type": "stream",
     "text": [
      "                                      id   point         size  step\n",
      "0   7da53367-d793-498e-8784-129a61d5b841  (0, 0)  1000.000000   0.0\n",
      "1   7da53367-d793-498e-8784-129a61d5b841  (0, 0)   998.000000   1.0\n",
      "2   7da53367-d793-498e-8784-129a61d5b841  (0, 0)   995.200000   2.0\n",
      "3   7da53367-d793-498e-8784-129a61d5b841  (0, 0)   991.360000   3.0\n",
      "4   7da53367-d793-498e-8784-129a61d5b841  (0, 0)   986.168000   4.0\n",
      "5   7da53367-d793-498e-8784-129a61d5b841  (0, 0)   979.218400   5.0\n",
      "6   7da53367-d793-498e-8784-129a61d5b841  (0, 0)   969.983920   6.0\n",
      "7   7da53367-d793-498e-8784-129a61d5b841  (0, 0)   957.779096   7.0\n",
      "8   7da53367-d793-498e-8784-129a61d5b841  (0, 0)   941.712825   8.0\n",
      "9   7da53367-d793-498e-8784-129a61d5b841  (0, 0)   920.626672   9.0\n",
      "10  7da53367-d793-498e-8784-129a61d5b841  (0, 0)   893.014674  10.0\n",
      "11  7da53367-d793-498e-8784-129a61d5b841  (0, 0)   856.919076  11.0\n"
     ]
    }
   ],
   "source": [
    "food_df = pd.read_csv(food_file_path)\n",
    "print(food_df)"
   ]
  },
  {
   "cell_type": "code",
   "execution_count": null,
   "metadata": {},
   "outputs": [],
   "source": []
  }
 ],
 "metadata": {
  "kernelspec": {
   "display_name": "Python 3",
   "language": "python",
   "name": "python3"
  },
  "language_info": {
   "codemirror_mode": {
    "name": "ipython",
    "version": 3
   },
   "file_extension": ".py",
   "mimetype": "text/x-python",
   "name": "python",
   "nbconvert_exporter": "python",
   "pygments_lexer": "ipython3",
   "version": "3.5.3"
  }
 },
 "nbformat": 4,
 "nbformat_minor": 4
}
