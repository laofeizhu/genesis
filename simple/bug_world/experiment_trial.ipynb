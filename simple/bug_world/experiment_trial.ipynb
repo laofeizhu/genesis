{
 "cells": [
  {
   "cell_type": "code",
   "execution_count": 1,
   "metadata": {},
   "outputs": [],
   "source": [
    "import pandas as pd\n",
    "\n",
    "from world import World\n",
    "from matplotlib import pyplot as plt\n",
    "\n"
   ]
  },
  {
   "cell_type": "code",
   "execution_count": 5,
   "metadata": {},
   "outputs": [
    {
     "name": "stdout",
     "output_type": "stream",
     "text": [
      "log_dir is: /tmp/tmpnch49697\n"
     ]
    }
   ],
   "source": [
    "import os\n",
    "import tempfile\n",
    "\n",
    "log_dir = tempfile.mkdtemp()\n",
    "print(\"log_dir is:\", log_dir)\n",
    "\n",
    "bug_file_path = os.path.join(log_dir, \"bug.csv\")\n",
    "food_file_path = os.path.join(log_dir, \"food.csv\")"
   ]
  },
  {
   "cell_type": "code",
   "execution_count": 6,
   "metadata": {},
   "outputs": [],
   "source": [
    "config = {\n",
    "    \"dim\": [20, 1],\n",
    "    \"default_bug_size\": 10,\n",
    "    \"default_food_size\": 50,\n",
    "}\n",
    "world = World(config)\n",
    "world.create_food(options={\"point\": [0, 0]})\n",
    "world.create_bug(options={\"point\": [10, 0]})\n",
    "world.record(log_dir)\n",
    "for _ in range(10):\n",
    "  world.step()\n",
    "  world.record(log_dir)"
   ]
  },
  {
   "cell_type": "code",
   "execution_count": 7,
   "metadata": {},
   "outputs": [
    {
     "name": "stdout",
     "output_type": "stream",
     "text": [
      "   age                                    id    point       size  step\n",
      "0  0.0  4df30ccd-d4b9-4d0c-8979-79e5c2d84a63  (10, 0)  10.000000   0.0\n",
      "1  1.0  4df30ccd-d4b9-4d0c-8979-79e5c2d84a63  (11, 0)   9.000000   1.0\n",
      "2  2.0  4df30ccd-d4b9-4d0c-8979-79e5c2d84a63  (12, 0)   8.090000   2.0\n",
      "3  3.0  4df30ccd-d4b9-4d0c-8979-79e5c2d84a63  (13, 0)   7.261000   3.0\n",
      "4  4.0  4df30ccd-d4b9-4d0c-8979-79e5c2d84a63  (14, 0)   6.504900   4.0\n",
      "5  5.0  4df30ccd-d4b9-4d0c-8979-79e5c2d84a63  (15, 0)   5.814410   5.0\n",
      "6  6.0  4df30ccd-d4b9-4d0c-8979-79e5c2d84a63  (16, 0)   5.182969   6.0\n",
      "7  7.0  4df30ccd-d4b9-4d0c-8979-79e5c2d84a63  (17, 0)   4.604672   7.0\n",
      "8  8.0  4df30ccd-d4b9-4d0c-8979-79e5c2d84a63  (18, 0)   4.074205   8.0\n"
     ]
    }
   ],
   "source": [
    "bug_df = pd.read_csv(bug_file_path)\n",
    "print(bug_df)"
   ]
  },
  {
   "cell_type": "code",
   "execution_count": null,
   "metadata": {},
   "outputs": [],
   "source": []
  }
 ],
 "metadata": {
  "kernelspec": {
   "display_name": "Python 3",
   "language": "python",
   "name": "python3"
  },
  "language_info": {
   "codemirror_mode": {
    "name": "ipython",
    "version": 3
   },
   "file_extension": ".py",
   "mimetype": "text/x-python",
   "name": "python",
   "nbconvert_exporter": "python",
   "pygments_lexer": "ipython3",
   "version": "3.7.5"
  }
 },
 "nbformat": 4,
 "nbformat_minor": 4
}
